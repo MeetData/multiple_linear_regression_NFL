{
 "cells": [
  {
   "cell_type": "markdown",
   "metadata": {},
   "source": [
    "<font color='Red'>$\n",
    "{\\huge Multiple \\ Linear \\ Regression \\ in \\ Python }$</font>\n",
    "\n"
   ]
  },
  {
   "cell_type": "markdown",
   "metadata": {},
   "source": [
    "Use NFL 2020 Combine Data to see how we can predict Broad Jump. Photo Credit: NPR\n",
    "\n",
    "<br>\n",
    "\n",
    "<div>\n",
    "<img src=\"https://media.npr.org/assets/img/2015/02/23/byron-jones_custom-cc92bd2b99ebbf317494a262aa99b71a5a1119bd-s800-c85.webp\" width=\"500\"/>\n",
    "</div>"
   ]
  },
  {
   "cell_type": "markdown",
   "metadata": {},
   "source": [
    "Side Note: There is a Youtube video associated with this tutorial notebook."
   ]
  },
  {
   "cell_type": "code",
   "execution_count": 12,
   "metadata": {},
   "outputs": [
    {
     "data": {
      "text/html": [
       "<iframe width=\"560\" height=\"355\" src=\"https://www.youtube.com/embed/EQ4NKbLUVN4?rel=0&amp;controls=0&amp;showinfo=0\" frameborder=\"0\" allowfullscreen></iframe>"
      ],
      "text/plain": [
       "<IPython.core.display.HTML object>"
      ]
     },
     "execution_count": 12,
     "metadata": {},
     "output_type": "execute_result"
    }
   ],
   "source": [
    "from IPython.display import HTML\n",
    "\n",
    "# Youtube\n",
    "HTML('<iframe width=\"560\" height=\"355\" src=\"https://www.youtube.com/embed/EQ4NKbLUVN4?rel=0&amp;controls=0&amp;showinfo=0\" frameborder=\"0\" allowfullscreen></iframe>')\n"
   ]
  },
  {
   "cell_type": "markdown",
   "metadata": {},
   "source": [
    "${\\large Why \\ multiple \\ linear \\ regression? }$\n",
    "\n",
    "- One event is impacted by multiple factors.\n",
    "- Considering single factor (e.g., in simple linear regression) might lead to a wrong conclusion in some situation."
   ]
  },
  {
   "cell_type": "markdown",
   "metadata": {},
   "source": [
    "<div>\n",
    "<img src=\"https://raw.githubusercontent.com/MeetData/multiple_linear_regression_NFL/main/relationships.PNG\" width=\"500\"/>\n",
    "</div>"
   ]
  },
  {
   "cell_type": "markdown",
   "metadata": {},
   "source": [
    "$$ {\\large Broad \\ Jump =b_0+ b_1 Weight + b_2 Height }$$"
   ]
  },
  {
   "cell_type": "markdown",
   "metadata": {},
   "source": [
    "Step 1: Read data into the environment\n",
    "\n",
    "CSV file: https://raw.githubusercontent.com/MeetData/multiple_linear_regression_NFL/main/NFL_2020_Combine.csv"
   ]
  },
  {
   "cell_type": "code",
   "execution_count": 2,
   "metadata": {},
   "outputs": [
    {
     "name": "stdout",
     "output_type": "stream",
     "text": [
      "     Unnamed: 0             Player Pos   Ht   Wt  40yd  Vertical  Bench  \\\n",
      "0             0         Trey Adams  OL  203  318  5.60      24.5    NaN   \n",
      "1             1     Hakeem Adeniji  OL  193  302  5.17      34.0   26.0   \n",
      "2             2      McTelvin Agim  DL  190  309  4.98       NaN   27.0   \n",
      "3             3       Salvon Ahmed  RB  180  197  4.62      34.5    NaN   \n",
      "4             4      Brandon Aiyuk  WR  183  205  4.50      40.0   11.0   \n",
      "..          ...                ...  ..  ...  ...   ...       ...    ...   \n",
      "332         332        D.J. Wonnum  DL  195  258  4.73      34.5   20.0   \n",
      "333         333  Dom Wood-Anderson  TE  193  261  4.92      35.0    NaN   \n",
      "334         334     David Woodward  LB  188  230  4.79      33.5   16.0   \n",
      "335         335        Chase Young  DL  195  264   NaN       NaN    NaN   \n",
      "336         336      Jabari Zuniga  DL  190  264  4.64      33.0   29.0   \n",
      "\n",
      "     Broad_Jump  3Cone  Shuttle  \n",
      "0          92.0    NaN      NaN  \n",
      "1         115.0    NaN      NaN  \n",
      "2           NaN    NaN      NaN  \n",
      "3         120.0    NaN      NaN  \n",
      "4         128.0    NaN      NaN  \n",
      "..          ...    ...      ...  \n",
      "332       123.0   7.25     4.44  \n",
      "333       119.0    NaN      NaN  \n",
      "334       114.0   7.34     4.37  \n",
      "335         NaN    NaN      NaN  \n",
      "336       127.0    NaN      NaN  \n",
      "\n",
      "[337 rows x 11 columns]\n"
     ]
    }
   ],
   "source": [
    "import pandas as pd\n",
    "data_NFL=pd.read_csv(\"https://raw.githubusercontent.com/MeetData/multiple_linear_regression_NFL/main/NFL_2020_Combine.csv\")\n",
    "print(data_NFL)"
   ]
  },
  {
   "cell_type": "markdown",
   "metadata": {},
   "source": [
    "Step 2:Use Statsmodels.formula.api to do analysis"
   ]
  },
  {
   "cell_type": "code",
   "execution_count": 3,
   "metadata": {},
   "outputs": [
    {
     "name": "stdout",
     "output_type": "stream",
     "text": [
      "                            OLS Regression Results                            \n",
      "==============================================================================\n",
      "Dep. Variable:             Broad_Jump   R-squared:                       0.490\n",
      "Model:                            OLS   Adj. R-squared:                  0.486\n",
      "Method:                 Least Squares   F-statistic:                     113.6\n",
      "Date:                Tue, 10 May 2022   Prob (F-statistic):           2.82e-35\n",
      "Time:                        08:32:52   Log-Likelihood:                -767.15\n",
      "No. Observations:                 239   AIC:                             1540.\n",
      "Df Residuals:                     236   BIC:                             1551.\n",
      "Df Model:                           2                                         \n",
      "Covariance Type:            nonrobust                                         \n",
      "==============================================================================\n",
      "                 coef    std err          t      P>|t|      [0.025      0.975]\n",
      "------------------------------------------------------------------------------\n",
      "Intercept    119.2350     12.921      9.228      0.000      93.780     144.690\n",
      "Wt            -0.1619      0.013    -12.425      0.000      -0.188      -0.136\n",
      "Ht             0.2043      0.080      2.567      0.011       0.048       0.361\n",
      "==============================================================================\n",
      "Omnibus:                        1.448   Durbin-Watson:                   1.935\n",
      "Prob(Omnibus):                  0.485   Jarque-Bera (JB):                1.179\n",
      "Skew:                           0.034   Prob(JB):                        0.555\n",
      "Kurtosis:                       3.337   Cond. No.                     1.01e+04\n",
      "==============================================================================\n",
      "\n",
      "Warnings:\n",
      "[1] Standard Errors assume that the covariance matrix of the errors is correctly specified.\n",
      "[2] The condition number is large, 1.01e+04. This might indicate that there are\n",
      "strong multicollinearity or other numerical problems.\n"
     ]
    }
   ],
   "source": [
    "from statsmodels.formula.api import ols\n",
    "res=ols(\"Broad_Jump~Wt+Ht\",data=data_NFL)\n",
    "res=res.fit()\n",
    "print(res.summary())"
   ]
  },
  {
   "cell_type": "markdown",
   "metadata": {},
   "source": [
    "<font color='Red'>$\n",
    "{\\huge Danger \\ of \\ Simple \\ Linear \\ Regression }$</font>\n"
   ]
  },
  {
   "cell_type": "markdown",
   "metadata": {},
   "source": [
    "It sometimes is dangeous to use simple linear regression. For instance, below, if you just put height as the only IV. You will conclude that height is negatively related to broad jump. As we know from multiple linear regression output, this is not true. The reason for this contradition is that, height and weight are correlated. Thus, we need to put both of them into the regression model to avoid such false conclusion. "
   ]
  },
  {
   "cell_type": "code",
   "execution_count": 4,
   "metadata": {},
   "outputs": [
    {
     "name": "stdout",
     "output_type": "stream",
     "text": [
      "                            OLS Regression Results                            \n",
      "==============================================================================\n",
      "Dep. Variable:             Broad_Jump   R-squared:                       0.157\n",
      "Model:                            OLS   Adj. R-squared:                  0.154\n",
      "Method:                 Least Squares   F-statistic:                     44.18\n",
      "Date:                Tue, 10 May 2022   Prob (F-statistic):           2.04e-10\n",
      "Time:                        08:36:05   Log-Likelihood:                -827.29\n",
      "No. Observations:                 239   AIC:                             1659.\n",
      "Df Residuals:                     237   BIC:                             1666.\n",
      "Df Model:                           1                                         \n",
      "Covariance Type:            nonrobust                                         \n",
      "==============================================================================\n",
      "                 coef    std err          t      P>|t|      [0.025      0.975]\n",
      "------------------------------------------------------------------------------\n",
      "Intercept    209.8378     13.689     15.329      0.000     182.870     236.806\n",
      "Ht            -0.4860      0.073     -6.647      0.000      -0.630      -0.342\n",
      "==============================================================================\n",
      "Omnibus:                        3.976   Durbin-Watson:                   2.019\n",
      "Prob(Omnibus):                  0.137   Jarque-Bera (JB):                3.603\n",
      "Skew:                          -0.269   Prob(JB):                        0.165\n",
      "Kurtosis:                       3.269   Cond. No.                     5.12e+03\n",
      "==============================================================================\n",
      "\n",
      "Warnings:\n",
      "[1] Standard Errors assume that the covariance matrix of the errors is correctly specified.\n",
      "[2] The condition number is large, 5.12e+03. This might indicate that there are\n",
      "strong multicollinearity or other numerical problems.\n"
     ]
    }
   ],
   "source": [
    "from statsmodels.formula.api import ols\n",
    "res=ols(\"Broad_Jump~Ht\",data=data_NFL)\n",
    "res=res.fit()\n",
    "print(res.summary())"
   ]
  },
  {
   "cell_type": "code",
   "execution_count": 5,
   "metadata": {},
   "outputs": [
    {
     "data": {
      "text/plain": [
       "<matplotlib.axes._subplots.AxesSubplot at 0x20719340708>"
      ]
     },
     "execution_count": 5,
     "metadata": {},
     "output_type": "execute_result"
    },
    {
     "data": {
      "image/png": "[encoded data removed]",
      "text/plain": [
       "<Figure size 432x288 with 1 Axes>"
      ]
     },
     "metadata": {
      "needs_background": "light"
     },
     "output_type": "display_data"
    }
   ],
   "source": [
    "data_NFL.plot(kind=\"scatter\",x=\"Ht\",y=\"Broad_Jump\")"
   ]
  },
  {
   "cell_type": "code",
   "execution_count": 6,
   "metadata": {},
   "outputs": [
    {
     "data": {
      "text/plain": [
       "<matplotlib.axes._subplots.AxesSubplot at 0x207193f6608>"
      ]
     },
     "execution_count": 6,
     "metadata": {},
     "output_type": "execute_result"
    },
    {
     "data": {
      "image/png": "[encoded data removed]",
      "text/plain": [
       "<Figure size 432x288 with 1 Axes>"
      ]
     },
     "metadata": {
      "needs_background": "light"
     },
     "output_type": "display_data"
    }
   ],
   "source": [
    "data_NFL.plot(kind=\"scatter\",x=\"Ht\",y=\"Wt\")"
   ]
  }
 ],
 "metadata": {
  "kernelspec": {
   "display_name": "Python 3",
   "language": "python",
   "name": "python3"
  },
  "language_info": {
   "codemirror_mode": {
    "name": "ipython",
    "version": 3
   },
   "file_extension": ".py",
   "mimetype": "text/x-python",
   "name": "python",
   "nbconvert_exporter": "python",
   "pygments_lexer": "ipython3",
   "version": "3.7.6"
  }
 },
 "nbformat": 4,
 "nbformat_minor": 4
}
